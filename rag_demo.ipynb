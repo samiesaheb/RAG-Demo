{
 "cells": [
  {
   "cell_type": "code",
   "execution_count": 2,
   "id": "30d00098-3d2c-486d-8ff2-03495d974493",
   "metadata": {},
   "outputs": [
    {
     "data": {
      "application/vnd.jupyter.widget-view+json": {
       "model_id": "8402a122712f4ac9b37a055609635734",
       "version_major": 2,
       "version_minor": 0
      },
      "text/plain": [
       "README.md:   0%|          | 0.00/21.0 [00:00<?, ?B/s]"
      ]
     },
     "metadata": {},
     "output_type": "display_data"
    },
    {
     "data": {
      "application/vnd.jupyter.widget-view+json": {
       "model_id": "370b8ae98fdb4bb3ad422511a6815b9e",
       "version_major": 2,
       "version_minor": 0
      },
      "text/plain": [
       "huggingface_doc.csv:   0%|          | 0.00/22.0M [00:00<?, ?B/s]"
      ]
     },
     "metadata": {},
     "output_type": "display_data"
    },
    {
     "data": {
      "application/vnd.jupyter.widget-view+json": {
       "model_id": "5ea69e0b4fe74192b805f442c9919b1f",
       "version_major": 2,
       "version_minor": 0
      },
      "text/plain": [
       "Generating train split:   0%|          | 0/2647 [00:00<?, ? examples/s]"
      ]
     },
     "metadata": {},
     "output_type": "display_data"
    }
   ],
   "source": [
    "import datasets\n",
    "\n",
    "ds = datasets.load_dataset(\"m-ric/huggingface_doc\", split=\"train\")\n",
    "documents = [doc[\"text\"] for doc in ds]"
   ]
  },
  {
   "cell_type": "code",
   "execution_count": 3,
   "id": "49c1379f-57e2-4fbe-8414-f6ceaf33653b",
   "metadata": {},
   "outputs": [
    {
     "name": "stdout",
     "output_type": "stream",
     "text": [
      "Loaded 2647 documents.\n"
     ]
    }
   ],
   "source": [
    "print(f\"Loaded {len(documents)} documents.\")"
   ]
  },
  {
   "cell_type": "code",
   "execution_count": 4,
   "id": "fa6d5303-f5cd-46d9-af96-6737640e9738",
   "metadata": {},
   "outputs": [],
   "source": [
    "def chunk_examples(examples):\n",
    "    chunks = []\n",
    "    for text in examples['text']:  # replace 'text' with your dataset's text field name\n",
    "        # Split text into 200-character chunks\n",
    "        chunks += [text[i:i + 200] for i in range(0, len(text), 200)]\n",
    "    return {'chunks': chunks}\n"
   ]
  },
  {
   "cell_type": "code",
   "execution_count": 5,
   "id": "1eb0b799-b950-46c1-b9e4-6538e23d43c1",
   "metadata": {},
   "outputs": [
    {
     "data": {
      "application/vnd.jupyter.widget-view+json": {
       "model_id": "68b497cab65a4aa7ac03c079ab1e6894",
       "version_major": 2,
       "version_minor": 0
      },
      "text/plain": [
       "Map:   0%|          | 0/2647 [00:00<?, ? examples/s]"
      ]
     },
     "metadata": {},
     "output_type": "display_data"
    }
   ],
   "source": [
    "chunked_ds = ds.map(chunk_examples, batched=True, remove_columns=ds.column_names)"
   ]
  },
  {
   "cell_type": "code",
   "execution_count": 6,
   "id": "a288e206-d6f9-4a28-8ead-8c3c9385dad5",
   "metadata": {},
   "outputs": [
    {
     "name": "stdout",
     "output_type": "stream",
     "text": [
      "{'chunks': [' Create an Endpoint\\n\\nAfter your first login, you will be directed to the [Endpoint creation page](https://ui.endpoints.huggingface.co/new). As an example, this guide will go through the steps to deplo', 'y [distilbert-base-uncased-finetuned-sst-2-english](https://huggingface.co/distilbert-base-uncased-finetuned-sst-2-english) for text classification. \\n\\n## 1. Enter the Hugging Face Repository ID and yo', 'ur desired endpoint name:\\n\\n<img src=\"https://raw.githubusercontent.com/huggingface/hf-endpoints-documentation/main/assets/1_repository.png\" alt=\"select repository\" />\\n\\n## 2. Select your Cloud Provider', ' and region. Initially, only AWS will be available as a Cloud Provider with the `us-east-1` and `eu-west-1` regions. We will add Azure soon, and if you need to test Endpoints with other Cloud Provider', 's or regions, please let us know.\\n\\n<img src=\"https://raw.githubusercontent.com/huggingface/hf-endpoints-documentation/main/assets/1_region.png\" alt=\"select region\" />\\n\\n## 3. Define the [Security Level', '](security) for the Endpoint:\\n\\n<img src=\"https://raw.githubusercontent.com/huggingface/hf-endpoints-documentation/main/assets/1_security.png\" alt=\"define security\" />\\n\\n## 4. Create your Endpoint by cl', 'icking **Create Endpoint**. By default, your Endpoint is created with a medium CPU (2 x 4GB vCPUs with Intel Xeon Ice Lake) The cost estimate assumes the Endpoint will be up for an entire month, and d', 'oes not take autoscaling into account.\\n\\n<img src=\"https://raw.githubusercontent.com/huggingface/hf-endpoints-documentation/main/assets/1_create_cost.png\" alt=\"create endpoint\" />\\n\\n## 5. Wait for the E', 'ndpoint to build, initialize and run which can take between 1 to 5 minutes.\\n\\n<img src=\"https://raw.githubusercontent.com/huggingface/hf-endpoints-documentation/main/assets/overview.png\" alt=\"overview\"', ' />\\n\\n## 6. Test your Endpoint in the overview with the Inference widget 🏁 🎉!\\n\\n<img src=\"https://raw.githubusercontent.com/huggingface/hf-endpoints-documentation/main/assets/1_inference.png\" alt=\"run i']}\n"
     ]
    }
   ],
   "source": [
    "print(chunked_ds[:10])"
   ]
  },
  {
   "cell_type": "code",
   "execution_count": 7,
   "id": "271c163f-35e9-439e-8fe0-2a622eb12d98",
   "metadata": {},
   "outputs": [
    {
     "name": "stdout",
     "output_type": "stream",
     "text": [
      "['text', 'source']\n"
     ]
    }
   ],
   "source": [
    "print(ds.column_names)"
   ]
  },
  {
   "cell_type": "code",
   "execution_count": 8,
   "id": "0bd43608-56b6-417c-be16-5253cdd16cdf",
   "metadata": {},
   "outputs": [],
   "source": [
    "texts = chunked_ds['chunks']"
   ]
  },
  {
   "cell_type": "code",
   "execution_count": 10,
   "id": "2be11caf-7bce-4d6f-bc87-a14e825d715f",
   "metadata": {},
   "outputs": [],
   "source": [
    "from sentence_transformers import SentenceTransformer\n",
    "embedder = SentenceTransformer('all-MiniLM-L6-v2')  # lightweight and effective"
   ]
  },
  {
   "cell_type": "code",
   "execution_count": 11,
   "id": "557e8bc1-96ee-4b83-ac95-3ad73ecd9098",
   "metadata": {},
   "outputs": [
    {
     "data": {
      "application/vnd.jupyter.widget-view+json": {
       "model_id": "6ab5872d98064650b0d185732687961d",
       "version_major": 2,
       "version_minor": 0
      },
      "text/plain": [
       "Batches:   0%|          | 0/3383 [00:00<?, ?it/s]"
      ]
     },
     "metadata": {},
     "output_type": "display_data"
    }
   ],
   "source": [
    "embeddings = embedder.encode(texts, batch_size=32, show_progress_bar=True)"
   ]
  },
  {
   "cell_type": "code",
   "execution_count": 12,
   "id": "177c1ca4-0c2b-4fdf-a313-654192443483",
   "metadata": {},
   "outputs": [
    {
     "data": {
      "application/vnd.jupyter.widget-view+json": {
       "model_id": "8e364bd3cfda4312bd8fe71e7e7be73f",
       "version_major": 2,
       "version_minor": 0
      },
      "text/plain": [
       "Batches:   0%|          | 0/3383 [00:00<?, ?it/s]"
      ]
     },
     "metadata": {},
     "output_type": "display_data"
    }
   ],
   "source": [
    "embeddings = embedder.encode(texts, batch_size=32, show_progress_bar=True)"
   ]
  },
  {
   "cell_type": "code",
   "execution_count": 13,
   "id": "59e3799e-6b04-4a5b-965c-f3fe1a8cc27e",
   "metadata": {},
   "outputs": [
    {
     "name": "stdout",
     "output_type": "stream",
     "text": [
      "Indexed 108237 vectors.\n"
     ]
    }
   ],
   "source": [
    "import faiss\n",
    "import numpy as np\n",
    "\n",
    "dimension = embeddings.shape[1]\n",
    "index = faiss.IndexFlatL2(dimension)  # L2 distance metric\n",
    "\n",
    "index.add(np.array(embeddings))\n",
    "print(f\"Indexed {index.ntotal} vectors.\")"
   ]
  },
  {
   "cell_type": "code",
   "execution_count": 14,
   "id": "d6b26de1-efff-47f1-ba4b-bbd99e6e64e5",
   "metadata": {},
   "outputs": [],
   "source": [
    "faiss.write_index(index, \"rag_index.faiss\")\n",
    "\n",
    "import pickle\n",
    "with open(\"rag_chunks.pkl\", \"wb\") as f:\n",
    "    pickle.dump(texts, f)"
   ]
  },
  {
   "cell_type": "code",
   "execution_count": 15,
   "id": "e9cfe4b5-19e8-4a5a-8584-36c0afa15eb9",
   "metadata": {},
   "outputs": [],
   "source": [
    "query = \"Tell me about cat agility.\"\n",
    "\n",
    "query_embedding = embedder.encode([query])\n",
    "\n",
    "D, I = index.search(np.array(query_embedding), k=3)  # retrieve top 3 chunks\n",
    "\n",
    "retrieved_chunks = [texts[i] for i in I[0]]"
   ]
  },
  {
   "cell_type": "code",
   "execution_count": 22,
   "id": "7466cada-f01d-4e42-b0a6-3e01141b46ed",
   "metadata": {},
   "outputs": [
    {
     "name": "stdout",
     "output_type": "stream",
     "text": [
      "Cat Agility Training!\n",
      "\n",
      "Cat agility training, also known as feline agility or kitten agility, is a fun and challenging activity for cats. Here's the scoop:\n",
      "\n",
      "**Benefits for cats:**\n",
      "\n",
      "1. **Exercise**: Cat agility training provides mental and physical stimulation, helping to reduce stress and boredom.\n",
      "2. **Socialization**: Interacting with other cats and toys can help socialize your cat, reducing aggression and fear-based behaviors.\n",
      "3. **Playtime**: Agility training offers a fun way to engage in play with your cat, promoting exercise and bonding.\n",
      "\n",
      "**Setting up a cat agility course:**\n",
      "\n",
      "1. **Cat tower or platform**: Choose a sturdy cat tower or platform that allows your cat to climb and navigate.\n",
      "2. **Tunnels and tubes**: Set up tunnels and tubes for your cat to explore and crawl through.\n",
      "3. **Feeder hurdles**: Place small hurdles or obstacles at different levels to encourage problem-solving and agility.\n",
      "4. **Cat toys and chews**: Add cat toys, such as feather wands or laser pointers, and chew toys to keep your cat engaged.\n",
      "\n",
      "**Tips for cat owners:**\n",
      "\n",
      "1. **Start slow**: Introduce new obstacles gradually to prevent overwhelming your cat.\n",
      "2. **Supervise**: Always supervise playtime to ensure your cat's safety.\n",
      "3. **Rotate toys**: Rotate toys regularly to keep things fresh and interesting.\n",
      "4. **Reward good behavior**: Praise and reward your cat for demonstrating agility and problem-solving skills.\n",
      "\n",
      "**Cat agility training is not just for pets:**\n",
      "\n",
      "1. **Training can be beneficial for humans too!** Agility training can improve focus, balance, and coordination in people.\n",
      "2. **Many programs are available for human participants**, including adult classes and online tutorials.\n",
      "\n",
      "Overall, cat agility training is a fun and rewarding activity that offers numerous benefits for both cats and their owners!\n"
     ]
    }
   ],
   "source": [
    "import ollama\n",
    "\n",
    "context = \"\\n\".join(retrieved_chunks)\n",
    "prompt = f\"Context: {context}\\nQuestion: {query}\\nAnswer:\"\n",
    "\n",
    "messages = [{'role': 'user', 'content': prompt}]\n",
    "\n",
    "response = ollama.chat(model='hf.co/bartowski/Llama-3.2-1B-Instruct-GGUF:latest', messages=messages)\n",
    "\n",
    "print(response['message']['content'])\n"
   ]
  },
  {
   "cell_type": "code",
   "execution_count": null,
   "id": "4c3affc2-d496-4494-951d-4121e22b49ba",
   "metadata": {},
   "outputs": [],
   "source": []
  }
 ],
 "metadata": {
  "kernelspec": {
   "display_name": "Python 3 (ipykernel)",
   "language": "python",
   "name": "python3"
  },
  "language_info": {
   "codemirror_mode": {
    "name": "ipython",
    "version": 3
   },
   "file_extension": ".py",
   "mimetype": "text/x-python",
   "name": "python",
   "nbconvert_exporter": "python",
   "pygments_lexer": "ipython3",
   "version": "3.13.0"
  }
 },
 "nbformat": 4,
 "nbformat_minor": 5
}
