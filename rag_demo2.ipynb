{
 "cells": [
  {
   "cell_type": "code",
   "execution_count": 3,
   "id": "2181fbb2-b12e-465d-afad-c13f6aa1b10c",
   "metadata": {},
   "outputs": [],
   "source": [
    "import datasets\n",
    "\n",
    "ds = datasets.load_dataset(\"m-ric/huggingface_doc\", split=\"train\")\n",
    "documents = [doc[\"text\"] for doc in ds]"
   ]
  },
  {
   "cell_type": "code",
   "execution_count": 4,
   "id": "de202a49-ab91-4c52-96ac-149171a8c911",
   "metadata": {},
   "outputs": [],
   "source": [
    "from langchain_text_splitters import RecursiveCharacterTextSplitter\n",
    "from langchain_core.documents import Document\n",
    "\n",
    "splitter = RecursiveCharacterTextSplitter(chunk_size=500, chunk_overlap=100)\n",
    "docs = [Document(page_content=t) for t in documents]\n",
    "chunks = splitter.split_documents(docs)\n",
    "texts = [c.page_content for c in chunks]\n"
   ]
  },
  {
   "cell_type": "code",
   "execution_count": 6,
   "id": "77a176c4-535f-4462-9cf0-cb230fab6d6a",
   "metadata": {},
   "outputs": [
    {
     "data": {
      "application/vnd.jupyter.widget-view+json": {
       "model_id": "f3f191cfbf2d4c13a62c92ee612fa93a",
       "version_major": 2,
       "version_minor": 0
      },
      "text/plain": [
       "Batches:   0%|          | 0/1958 [00:00<?, ?it/s]"
      ]
     },
     "metadata": {},
     "output_type": "display_data"
    }
   ],
   "source": [
    "from sentence_transformers import SentenceTransformer\n",
    "from sklearn.preprocessing import normalize\n",
    "\n",
    "embedder = SentenceTransformer('all-MiniLM-L6-v2')\n",
    "embeddings = embedder.encode(texts, batch_size=32, show_progress_bar=True)\n",
    "\n",
    "# Normalize embeddings for cosine similarity\n",
    "embeddings = normalize(embeddings, axis=1)"
   ]
  },
  {
   "cell_type": "code",
   "execution_count": 7,
   "id": "9a6e9169-8168-44a4-97d7-97d0fea91b24",
   "metadata": {},
   "outputs": [
    {
     "name": "stdout",
     "output_type": "stream",
     "text": [
      "Indexed 62656 vectors.\n"
     ]
    }
   ],
   "source": [
    "import faiss\n",
    "import numpy as np\n",
    "\n",
    "dimension = embeddings.shape[1]\n",
    "index = faiss.IndexFlatIP(dimension)  # IP = Inner Product = cosine if normalized\n",
    "\n",
    "index.add(np.array(embeddings))\n",
    "print(f\"Indexed {index.ntotal} vectors.\")"
   ]
  },
  {
   "cell_type": "code",
   "execution_count": 8,
   "id": "96b96788-a719-4c84-888e-0e7b9aef81ed",
   "metadata": {},
   "outputs": [],
   "source": [
    "faiss.write_index(index, \"rag_index.faiss\")\n",
    "\n",
    "import pickle\n",
    "with open(\"rag_chunks.pkl\", \"wb\") as f:\n",
    "    pickle.dump({\"texts\": texts}, f)"
   ]
  },
  {
   "cell_type": "code",
   "execution_count": 13,
   "id": "43c883cb-2302-4d97-bb6e-0634406740e5",
   "metadata": {},
   "outputs": [],
   "source": [
    "import faiss\n",
    "import pickle\n",
    "from sentence_transformers import SentenceTransformer\n",
    "from sklearn.preprocessing import normalize\n",
    "import numpy as np\n",
    "\n",
    "# Load FAISS index\n",
    "index = faiss.read_index(\"rag_index.faiss\")\n",
    "\n",
    "# Load chunked texts\n",
    "with open(\"rag_chunks.pkl\", \"rb\") as f:\n",
    "    data = pickle.load(f)\n",
    "texts = data[\"texts\"]\n",
    "\n",
    "# Load embedder again\n",
    "embedder = SentenceTransformer('all-MiniLM-L6-v2')"
   ]
  },
  {
   "cell_type": "code",
   "execution_count": 14,
   "id": "6566f324-ad92-419d-8a69-ad0ed1b68eeb",
   "metadata": {},
   "outputs": [],
   "source": [
    "def retrieve_chunks(query, k=3):\n",
    "    query_embedding = embedder.encode([query])\n",
    "    query_embedding = normalize(query_embedding, axis=1)\n",
    "    D, I = index.search(query_embedding, k)\n",
    "    return [texts[i] for i in I[0]]\n",
    "\n",
    "def generate_answer(query, context_chunks):\n",
    "    import ollama\n",
    "    context = \"\\n\".join(context_chunks)\n",
    "    prompt = f\"Context:\\n{context}\\n\\nQuestion: {query}\\nAnswer:\"\n",
    "    messages = [{'role': 'user', 'content': prompt}]\n",
    "    response = ollama.chat(model='hf.co/bartowski/Llama-3.2-1B-Instruct-GGUF:latest', messages=messages)\n",
    "    return response['message']['content']"
   ]
  },
  {
   "cell_type": "code",
   "execution_count": 15,
   "id": "15bc1425-0073-450e-bab8-9179b2dfc48a",
   "metadata": {},
   "outputs": [
    {
     "name": "stdout",
     "output_type": "stream",
     "text": [
      "Answer:\n",
      " Hugging Face is used for creating a model API in a few clicks.\n"
     ]
    }
   ],
   "source": [
    "query = \"What is Hugging Face used for?\"\n",
    "\n",
    "top_chunks = retrieve_chunks(query, k=3)\n",
    "answer = generate_answer(query, top_chunks)\n",
    "\n",
    "print(\"Answer:\\n\", answer)"
   ]
  },
  {
   "cell_type": "code",
   "execution_count": null,
   "id": "3871ff8a-b123-4317-9c7b-ba341676797a",
   "metadata": {},
   "outputs": [],
   "source": []
  }
 ],
 "metadata": {
  "kernelspec": {
   "display_name": "Python 3 (ipykernel)",
   "language": "python",
   "name": "python3"
  },
  "language_info": {
   "codemirror_mode": {
    "name": "ipython",
    "version": 3
   },
   "file_extension": ".py",
   "mimetype": "text/x-python",
   "name": "python",
   "nbconvert_exporter": "python",
   "pygments_lexer": "ipython3",
   "version": "3.13.0"
  }
 },
 "nbformat": 4,
 "nbformat_minor": 5
}
